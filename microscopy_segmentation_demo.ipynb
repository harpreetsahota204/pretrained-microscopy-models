{
  "cells": [
    {
      "cell_type": "markdown",
      "metadata": {},
      "source": [
        "# Microscopy Image Segmentation with FiftyOne\n",
        "\n",
        "[![Open In Colab](https://colab.research.google.com/assets/colab-badge.svg)](https://colab.research.google.com/github/harpreetsahota204/pretrained-microscopy-models/blob/main/microscopy_segmentation_demo.ipynb)\n",
        "\n",
        "This notebook demonstrates how to use pretrained microscopy models for image segmentation using FiftyOne.\n"
      ]
    },
    {
      "cell_type": "markdown",
      "metadata": {},
      "source": [
        "## Installation"
      ]
    },
    {
      "cell_type": "code",
      "execution_count": null,
      "metadata": {},
      "outputs": [],
      "source": [
        "# Install required packages\n",
        "!pip install -q git+https://github.com/nasa/pretrained-microscopy-models#egg=pretrained_microscopy_models\n",
        "!pip install fiftyone"
      ]
    },
    {
      "cell_type": "markdown",
      "metadata": {},
      "source": [
        "## Setup\n"
      ]
    },
    {
      "cell_type": "code",
      "execution_count": null,
      "metadata": {},
      "outputs": [],
      "source": [
        "import fiftyone as fo\n",
        "import fiftyone.zoo as foz\n",
        "from fiftyone.utils.huggingface import load_from_hub\n"
      ]
    },
    {
      "cell_type": "markdown",
      "metadata": {},
      "source": [
        "## Load Sample Dataset\n"
      ]
    },
    {
      "cell_type": "code",
      "execution_count": null,
      "metadata": {},
      "outputs": [],
      "source": [
        "# Load a microscopy dataset from Hugging Face\n",
        "dataset = load_from_hub(\"Voxel51/OD_MetalDAM\", overwrite=True)\n",
        "print(f\"Dataset has {len(dataset)} samples\")\n"
      ]
    },
    {
      "cell_type": "markdown",
      "metadata": {},
      "source": [
        "## Register Model Zoo Source\n"
      ]
    },
    {
      "cell_type": "code",
      "execution_count": null,
      "metadata": {},
      "outputs": [],
      "source": [
        "# Register the pretrained microscopy models repository\n",
        "foz.register_zoo_model_source(\n",
        "    \"https://github.com/harpreetsahota204/pretrained-microscopy-models\",\n",
        "    overwrite=True\n",
        ")\n",
        "print(\"Model source registered successfully!\")\n"
      ]
    },
    {
      "cell_type": "markdown",
      "metadata": {},
      "source": [
        "## Load Model\n"
      ]
    },
    {
      "cell_type": "code",
      "execution_count": null,
      "metadata": {},
      "outputs": [],
      "source": [
        "# Load the pretrained microscopy segmentation model\n",
        "model = foz.load_zoo_model(\n",
        "    \"pretrained-microscopy-models/unetplusplus-resnet50-micronet\",\n",
        "    classes=4  # Number of segmentation classes\n",
        ")\n",
        "print(\"Model loaded successfully!\")\n"
      ]
    },
    {
      "cell_type": "markdown",
      "metadata": {},
      "source": [
        "## Run Inference\n"
      ]
    },
    {
      "cell_type": "code",
      "execution_count": null,
      "metadata": {},
      "outputs": [],
      "source": [
        "# Apply the model to the dataset\n",
        "# This will add segmentation predictions to each sample\n",
        "dataset.apply_model(model, label_field=\"pred_segmentation\")\n",
        "print(\"Inference complete!\")\n"
      ]
    }
  ],
  "metadata": {
    "language_info": {
      "name": "python"
    }
  },
  "nbformat": 4,
  "nbformat_minor": 2
}
